{
 "cells": [
  {
   "attachments": {},
   "cell_type": "markdown",
   "metadata": {},
   "source": [
    "# 摘要\n",
    "1. 從 reference 資料夾，載入 填值表。\n",
    "2. 根據 填值表，從 Nas_data 中讀取指定圖表。\n",
    "3. 根據 填值表，指定圖表之算式，將變數表中的變數，經過算式運算以後，填入 Nas_data 之中。\n",
    "4. 根據 填值表，將欄位名稱全部改名。\n",
    "5. 輸出 Nas_data，至此，公開資料的自動化處理結束。預期輸出正確之檔案。"
   ]
  },
  {
   "cell_type": "code",
   "execution_count": null,
   "metadata": {},
   "outputs": [],
   "source": [
    "import pandas, numpy, os, traceback, re"
   ]
  },
  {
   "cell_type": "code",
   "execution_count": null,
   "metadata": {},
   "outputs": [],
   "source": [
    "# 載入填質表\n",
    "reference_excel_path = os.path.join(os.path.join(os.path.dirname(os.getcwd()), \"reference\"), \"填值表.xlsx\")\n",
    "reference_excel = pandas.read_excel(reference_excel_path)\n",
    "reference_excel.head(3)"
   ]
  },
  {
   "cell_type": "code",
   "execution_count": null,
   "metadata": {},
   "outputs": [],
   "source": [
    "Nas_data_path = os.path.join(os.path.join(os.path.dirname(os.getcwd()), \"reference\"), \"Step1_data.xlsx\")\n",
    "Nas_data = pandas.read_excel(Nas_data_path)\n",
    "Nas_data[Nas_data[\"學校代碼\"] == \"0001\"]\n",
    "\n"
   ]
  },
  {
   "cell_type": "code",
   "execution_count": null,
   "metadata": {},
   "outputs": [],
   "source": [
    "# 載入可先串接資料庫\n",
    "data_base_path = os.path.join(os.path.join(os.path.dirname(os.getcwd()), \"reference\"), \"Step3_data_base_concat_frist.xlsx\")\n",
    "data_base = pandas.read_excel(data_base_path)\n",
    "data_base = data_base[data_base[\"學年度\"].notnull()]\n",
    "data_base[\"學年度\"] = data_base[\"學年度\"].astype(int) # 將學年度轉為字串型別。以配合後續的填值。\n",
    "data_base[\"學年度\"] = data_base[\"學年度\"].astype(str)\n",
    "data_base[data_base[\"學校代碼\"] == \"0001\"]\n"
   ]
  },
  {
   "attachments": {},
   "cell_type": "markdown",
   "metadata": {},
   "source": [
    "# 創建 output 資料夾"
   ]
  },
  {
   "cell_type": "code",
   "execution_count": null,
   "metadata": {},
   "outputs": [],
   "source": [
    "error_Folder_path = os.path.join(os.path.dirname(os.getcwd()), \"output\")\n",
    "if not os.path.exists(error_Folder_path):\n",
    "    os.makedirs(error_Folder_path)\n",
    "else :\n",
    "    pass"
   ]
  },
  {
   "attachments": {},
   "cell_type": "markdown",
   "metadata": {},
   "source": [
    "# 填值"
   ]
  },
  {
   "attachments": {},
   "cell_type": "markdown",
   "metadata": {},
   "source": [
    "## 使用先串接之資料庫"
   ]
  },
  {
   "cell_type": "code",
   "execution_count": null,
   "metadata": {},
   "outputs": [],
   "source": [
    "for picture_name in list(reference_excel[\"使用圖型\"]) : \n",
    "\n",
    "    # 處理可先串接之圖型\n",
    "    if reference_excel[reference_excel[\"使用圖型\"] == picture_name][\"能否先串接\"].values[0]  == \"Yes\" : \n",
    "        try : \n",
    "            Nas_picture_path = os.path.join(os.path.join(os.path.dirname(os.getcwd()), \"output\"), f\"{picture_name}.xlsx\")\n",
    "            with pandas.ExcelWriter(Nas_picture_path, engine=\"openpyxl\") as writer:\n",
    "                \n",
    "                # 使用表冊、(學)年度、公式工作表_建立\n",
    "                reference_excel_copy = reference_excel[reference_excel[\"使用圖型\"] == picture_name][[\"使用資料來源\", \"公式\", \"資料下載時間\"]].copy()\n",
    "            \n",
    "                # 將資料下載時間，轉換為時間型別\n",
    "                reference_excel_copy[\"資料下載時間\"] = reference_excel_copy[\"資料下載時間\"].dt.date\n",
    "                \n",
    "                reference_excel_copy.to_excel(writer, sheet_name = \"使用表冊、(學)年度、公式\", index = False)\n",
    "\n",
    "                # 最終結果工作表_建立。\n",
    "                Nas_picture_data = pandas.read_excel(Nas_data_path, sheet_name= picture_name)\n",
    "                \n",
    "                # 為每一張圖表，新增一個新的學年度欄位。如，原本只有 110 年，則多一欄 111年。\n",
    "                Nas_picture_data[str(int(Nas_picture_data.columns[-1]) + 1)] = 0\n",
    "\n",
    "                # 載入該圖表對應的公式。備註，這個是字串型別的公式，要轉譯才能使用。\n",
    "                formula = reference_excel[reference_excel[\"使用圖型\"] == picture_name][\"公式(pandas)\"].values[0]\n",
    "                \n",
    "                # 將公式字串做轉換，data[\"???\"]，轉為，sch_open_data[\"???\"]\n",
    "                formula = formula.replace(\"data\", \"sch_year_data\")\n",
    "                formula = formula.replace(\"]\", \"].values[0]\")\n",
    "                # print(formula)\n",
    "\n",
    "                try : \n",
    "                    # 根據公式，將公開資料庫的數據，填入Nas_data之中。並根據能否先串接，選用不同的資料庫。\n",
    "                    for sch_index in list(dict.fromkeys(Nas_picture_data[\"學校代碼\"])) : \n",
    "                        sch_data_base = data_base[data_base[\"學校代碼\"] == sch_index]\n",
    "\n",
    "                        for sch_year in list(dict.fromkeys(sch_data_base[\"學年度\"])) : \n",
    "                            sch_year_data = sch_data_base[sch_data_base[\"學年度\"] == sch_year]\n",
    "                            # 填入值\n",
    "                            input_number = round(eval(formula), 9)\n",
    "\n",
    "                            try : # 將 sch_open_data 中，存在的學年度，盡可能填入 Nas_picture_data 之中。# eval() 轉譯用的函式。\n",
    "\n",
    "                                if str(int(sch_year)) in Nas_picture_data.columns : # 僅寫入 Nas_picture_data 中，有的學年度資料。\n",
    "                                    if reference_excel[reference_excel[\"使用圖型\"] == picture_name][\"上限為100\"].values[0] == \"Yes\" : # 選出使用百分比單位的圖表。# 註冊率超過100%者，以100%計算。\n",
    "                                        if input_number > 100 :\n",
    "                                            input_number = 100\n",
    "                                            Nas_picture_data.loc[Nas_picture_data[\"學校代碼\"] == sch_index, str(int(sch_year))] = input_number # 遺漏值不論加什麼都會輸出遺漏值，所以\"NA\"必然被遺漏值取代。\n",
    "                                        else : \n",
    "                                            Nas_picture_data.loc[Nas_picture_data[\"學校代碼\"] == sch_index, str(int(sch_year))] = input_number\n",
    "                                    else : \n",
    "                                        Nas_picture_data.loc[Nas_picture_data[\"學校代碼\"] == sch_index, str(int(sch_year))] = input_number\n",
    "                            \n",
    "                        \n",
    "                            except Exception as e : \n",
    "                                error_message = traceback.format_exc()\n",
    "                                with open(os.path.join(os.path.dirname(os.getcwd()), \"error\", \"可以先串接資料庫(填值_Error)\"), \"w\", encoding='utf-8') as f:\n",
    "                                    f.write(error_message)\n",
    "                                                         \n",
    "                except Exception as e : \n",
    "                    error_message = traceback.format_exc()\n",
    "                    with open(os.path.join(os.path.dirname(os.getcwd()), \"error\", \"公式計算錯誤\"), \"w\", encoding='utf-8') as f:\n",
    "                        f.write(error_message)\n",
    "\n",
    "                # 更改欄位名稱，加上填值表的變數名稱。\n",
    "                column_name = reference_excel[reference_excel[\"使用圖型\"] == picture_name][\"變數名稱\"].values[0]\n",
    "                # 每一個分頁的第五行開始，皆是數值變數。\n",
    "                sch_year_column_list = Nas_picture_data.columns[4:]\n",
    "\n",
    "                # 欄位改名之結果 list。\n",
    "                rename_list = [column_name + \"_\" + str(sch_year_column) for sch_year_column in sch_year_column_list]\n",
    "\n",
    "                rename_dict = dict(zip(sch_year_column_list, rename_list))\n",
    "                # print(rename_dict)\n",
    "\n",
    "                Nas_picture_data = Nas_picture_data.rename(columns = rename_dict)\n",
    "\n",
    "                # 將所有的遺漏值，以NA字串取代。\n",
    "                Nas_picture_data = Nas_picture_data.fillna(\"NA\")\n",
    "\n",
    "                # 將無窮大數值，以NA取代。\n",
    "                Nas_picture_data.replace(numpy.inf, \"NA\")\n",
    "\n",
    "                # 最終結果工作表_儲存\n",
    "                Nas_picture_data.to_excel(writer, sheet_name = \"最終結果\", index=False)\n",
    "\n",
    "\n",
    "                # 來源資料分頁_建立，存放 每一學年度的計算數據，來源數值。(#分流還沒做)\n",
    "                for sch_year in list(data_base[\"學年度\"]) : # 這裡選哪一個資料都沒差，都有全部的學年度。\n",
    "                    if f\"{column_name}_{str(int(sch_year))}\" in Nas_picture_data.columns : # 僅寫入 Nas_picture_data 中，有的學年度資料。\n",
    "\n",
    "                        sch_year_data = data_base[data_base[\"學年度\"] == sch_year].copy()\n",
    "\n",
    "                        # 透過正則表達式，抓出本圖表會用到的變數，並組成的 list。\n",
    "                        var_list = re.findall(re.compile(r'\\[\"(.*?)\"\\]'), formula)\n",
    "\n",
    "                        # 分組變數，所組成的 list。如 學校代碼、學年度 等\n",
    "                        classfication_list = [\"學校代碼\", \"學年度\"]\n",
    "\n",
    "                        sch_year_data = sch_year_data[(classfication_list + var_list)]\n",
    "\n",
    "                        # 遺漏值以 \"NA\" 字串輸出\n",
    "                        sch_year_data = sch_year_data.fillna(\"NA\")\n",
    "                        sch_str = int(sch_year)\n",
    "                        \n",
    "                        sch_year_data.to_excel(writer, sheet_name = f\"{sch_str}_資料來源\", index=False)\n",
    "                    \n",
    "        except Exception as e :\n",
    "            error_message = traceback.format_exc()\n",
    "            with open(os.path.join(os.path.dirname(os.getcwd()), \"error\", \"圖型寫入錯誤\"), \"w\", encoding='utf-8') as f:\n",
    "                f.write(error_message)\n",
    "\n",
    "\n",
    "            \n",
    "        \n",
    "\n"
   ]
  }
 ],
 "metadata": {
  "kernelspec": {
   "display_name": "base",
   "language": "python",
   "name": "python3"
  },
  "language_info": {
   "codemirror_mode": {
    "name": "ipython",
    "version": 3
   },
   "file_extension": ".py",
   "mimetype": "text/x-python",
   "name": "python",
   "nbconvert_exporter": "python",
   "pygments_lexer": "ipython3",
   "version": "3.10.10"
  },
  "orig_nbformat": 4,
  "vscode": {
   "interpreter": {
    "hash": "a077222d77dfe082b8f1dd562ad70e458ac2ab76993a0b248ab0476e32e9e8dd"
   }
  }
 },
 "nbformat": 4,
 "nbformat_minor": 2
}
