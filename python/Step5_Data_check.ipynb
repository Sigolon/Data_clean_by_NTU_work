{
 "cells": [
  {
   "attachments": {},
   "cell_type": "markdown",
   "metadata": {},
   "source": [
    "# 摘要\n",
    "1. 從 reference 資料夾，載入 填值表。\n",
    "2. 根據 填值表，從 Nas_data 中讀取指定圖表。\n",
    "3. 根據 填值表，指定圖表之算式，將變數表中的變數，經過算式運算以後，填入 Nas_data 之中。\n",
    "4. 根據 填值表，將欄位名稱全部改名。\n",
    "5. 輸出 Nas_data，至此，公開資料的自動化處理結束。預期輸出正確之檔案。"
   ]
  },
  {
   "cell_type": "code",
   "execution_count": null,
   "metadata": {},
   "outputs": [],
   "source": [
    "import pandas, numpy, os, traceback"
   ]
  },
  {
   "cell_type": "code",
   "execution_count": null,
   "metadata": {},
   "outputs": [],
   "source": [
    "# 載入填質表\n",
    "reference_excel_path = os.path.join(os.path.join(os.path.dirname(os.getcwd()), \"reference\"), \"填值表.xlsx\")\n",
    "reference_excel = pandas.read_excel(reference_excel_path)\n",
    "reference_excel.head(3)"
   ]
  },
  {
   "cell_type": "code",
   "execution_count": null,
   "metadata": {},
   "outputs": [],
   "source": [
    "Nas_data_path = os.path.join(os.path.join(os.path.dirname(os.getcwd()), \"reference\"), \"Step1_data.xlsx\")\n",
    "Nas_data = pandas.read_excel(Nas_data_path)\n",
    "Nas_data[Nas_data[\"學校代碼\"] == \"0001\"]"
   ]
  },
  {
   "cell_type": "code",
   "execution_count": null,
   "metadata": {},
   "outputs": [],
   "source": [
    "# 載入資料庫\n",
    "# 載入資料庫\n",
    "data_base_path = os.path.join(os.path.join(os.path.dirname(os.getcwd()), \"reference\"), \"Step3_data_base.xlsx\")\n",
    "data_base = pandas.read_excel(data_base_path)\n",
    "data_base = data_base[data_base[\"學年度\"].notnull()]\n",
    "data_base[\"學年度\"] = data_base[\"學年度\"].astype(int) # 將學年度轉為字串型別。以配合後續的填值。\n",
    "data_base[\"學年度\"] = data_base[\"學年度\"].astype(str)\n",
    "data_base[data_base[\"學校代碼\"] == \"0001\"]\n"
   ]
  },
  {
   "attachments": {},
   "cell_type": "markdown",
   "metadata": {},
   "source": [
    "# 填值"
   ]
  },
  {
   "attachments": {},
   "cell_type": "markdown",
   "metadata": {},
   "source": [
    "## 可先串接之資料庫"
   ]
  },
  {
   "cell_type": "code",
   "execution_count": null,
   "metadata": {},
   "outputs": [],
   "source": [
    "# 創建一個新的 Excel Writer 對象\n",
    "writer_path = os.path.join(os.path.join(os.path.dirname(os.getcwd()), \"reference\"), \"Step4_check_data.xlsx\")\n",
    "with pandas.ExcelWriter(writer_path, engine=\"openpyxl\") as writer :\n",
    "\n",
    "    for picture_name in list(reference_excel[\"使用圖型\"]) : \n",
    "        # 處理可先串接之圖型\n",
    "        if reference_excel[reference_excel[\"使用圖型\"] == picture_name][\"能否先串接\"].values[0] == \"Yes\" : \n",
    "            try : \n",
    "                Nas_picture_data = pandas.read_excel(Nas_data_path, sheet_name= picture_name)\n",
    "                \n",
    "                # 為每一張圖表，新增一個新的學年度欄位。如，原本只有 110 年，則多一欄 111年。\n",
    "                Nas_picture_data[str(int(Nas_picture_data.columns[-1]) + 1)] = 0\n",
    "\n",
    "                # 載入該圖表對應的公式。備註，這個是字串型別的公式，要轉譯才能使用。\n",
    "                formula = reference_excel[reference_excel[\"使用圖型\"] == picture_name][\"公式(pandas)\"].values[0]\n",
    "                \n",
    "                # 將公式字串做轉換，data[\"???\"]，轉為，sch_open_data[\"???\"]\n",
    "                formula = formula.replace(\"data\", \"sch_year_data\")\n",
    "                formula = formula.replace(\"]\", \"].values[0]\")\n",
    "\n",
    "                # text : \n",
    "                # print(picture_name)\n",
    "                # print(formula)\n",
    "\n",
    "                try : \n",
    "                    # 根據公式，將公開資料庫的數據，填入Nas_data之中。\n",
    "                    for sch_index in list(dict.fromkeys(Nas_picture_data[\"學校代碼\"])) : \n",
    "                        sch_open_data = data_base[data_base[\"學校代碼\"] == sch_index]\n",
    "\n",
    "\n",
    "                        for sch_year in list(dict.fromkeys(sch_open_data[\"學年度\"])) : \n",
    "                            sch_year_data = sch_open_data[sch_open_data[\"學年度\"] == sch_year]\n",
    "                            # 填入值\n",
    "                            input_number = round(eval(formula), 9) # 這一行可能會報錯，預期錯誤為，IndexError: index 0 is out of bounds for axis 0 with size 0。但應該不影響結果。\n",
    "\n",
    "                            try : # 將 sch_open_data 中，存在的學年度，盡可能填入 Nas_picture_data 之中。\n",
    "\n",
    "                                if str(int(sch_year)) in Nas_picture_data.columns : # 僅寫入 Nas_picture_data 中，有的學年度資料。\n",
    "                                    if reference_excel[reference_excel[\"使用圖型\"] == picture_name][\"上限為100\"].values[0] == \"Yes\" : # 選出使用百分比單位的圖表。# 註冊率超過100%者，以100%計算。\n",
    "                                        if input_number > 100 :\n",
    "                                            input_number = 100\n",
    "                                            Nas_picture_data.loc[Nas_picture_data[\"學校代碼\"] == sch_index, str(int(sch_year))] = input_number # eval() 轉譯用的函式。\n",
    "                                        else : \n",
    "                                            Nas_picture_data.loc[Nas_picture_data[\"學校代碼\"] == sch_index, str(int(sch_year))] = input_number\n",
    "                                    else : \n",
    "                                        Nas_picture_data.loc[Nas_picture_data[\"學校代碼\"] == sch_index, str(int(sch_year))] = input_number\n",
    "                                \n",
    "                                \n",
    "                            except Exception as e : \n",
    "                                error_message = traceback.format_exc()\n",
    "                                with open(os.path.join(os.path.dirname(os.getcwd()), \"error\", \"可以先串接資料庫(填值_Error)\"), \"w\", encoding='utf-8') as f:\n",
    "                                    f.write(error_message)\n",
    "            \n",
    "                except Exception as e : \n",
    "                    error_message = traceback.format_exc()\n",
    "                    with open(os.path.join(os.path.dirname(os.getcwd()), \"error\", \"公式計算錯誤\"), \"w\", encoding='utf-8') as f:\n",
    "                        f.write(error_message)\n",
    "\n",
    "\n",
    "                # 更改欄位名稱，加上填值表的變數名稱。\n",
    "                column_name = reference_excel[reference_excel[\"使用圖型\"] == picture_name][\"變數名稱\"].values[0]\n",
    "                # 每一個分頁的第五行開始，皆是數值變數。\n",
    "                sch_year_column_list = Nas_picture_data.columns[4:]\n",
    "\n",
    "                # 欄位改名之結果 list。\n",
    "                rename_list = [column_name + \"_\" + str(sch_year_column) for sch_year_column in sch_year_column_list]\n",
    "\n",
    "                rename_dict = dict(zip(sch_year_column_list, rename_list))\n",
    "                # print(rename_dict)\n",
    "\n",
    "                Nas_picture_data = Nas_picture_data.rename(columns = rename_dict)\n",
    "\n",
    "                # 遺漏值以 0 取代。\n",
    "                Nas_picture_data = Nas_picture_data.fillna(0) # 這裡推薦使用 0 ，方便後面的除錯。\n",
    "\n",
    "                # 將無窮大數值，以NA取代。\n",
    "                # Nas_picture_data.replace(numpy.inf, \"NA\")\n",
    "\n",
    "                # 儲存檔案\n",
    "                Nas_picture_data.to_excel(writer, sheet_name = picture_name, index = False)\n",
    "            except Exception as e : \n",
    "                error_message = traceback.format_exc()\n",
    "                with open(os.path.join(os.path.dirname(os.getcwd()), \"error\", \"圖型寫入錯誤\"), \"w\", encoding='utf-8') as f:\n",
    "                    f.write(error_message)\n",
    "            \n",
    "\n"
   ]
  },
  {
   "attachments": {},
   "cell_type": "markdown",
   "metadata": {},
   "source": [
    "## 處理不可先串接之資料庫"
   ]
  },
  {
   "cell_type": "code",
   "execution_count": null,
   "metadata": {},
   "outputs": [],
   "source": []
  },
  {
   "attachments": {},
   "cell_type": "markdown",
   "metadata": {},
   "source": [
    "# 資料除錯"
   ]
  },
  {
   "attachments": {},
   "cell_type": "markdown",
   "metadata": {},
   "source": [
    "## 可先串接之資料除錯"
   ]
  },
  {
   "cell_type": "code",
   "execution_count": null,
   "metadata": {},
   "outputs": [],
   "source": [
    "# 載入過去的 Nas_data。即 - Nas_data_check。透過對比，Nas_data_check，與 Nas_data之間的差異，找出與往年不同的資料。\n",
    "Nas_data_path = os.path.join(os.path.join(os.path.dirname(os.getcwd()), \"reference\"), \"Step4_check_data.xlsx\")\n",
    "Nas_check_data_path = os.path.join(os.path.join(os.path.dirname(os.getcwd()), \"reference\"), \"Step2_data_check.xlsx\")\n",
    "\n",
    "error_list = [] # 這個用來儲存錯誤資訊。\n",
    "\n",
    "for picture_name in list(reference_excel[\"使用圖型\"]) : # 可以知道的是，目前有資料的部分，都通過了 try 的內容。\n",
    "\t\n",
    "\t# 處理能先串接之圖型。\n",
    "\tif reference_excel[reference_excel[\"使用圖型\"] == picture_name][\"能否先串接\"] == \"Yes\" : \n",
    "\t\ttry : \n",
    "\t\t# print(picture_name)\n",
    "\t\t\tNas_picture_data = pandas.read_excel(Nas_data_path, sheet_name = picture_name)\n",
    "\t\t\t# 排除最新的資料\n",
    "\t\t\tNas_picture_data = Nas_picture_data.iloc[:, :-1]\n",
    "\n",
    "\t\t\tNas_picture_check_data = pandas.read_excel(Nas_check_data_path, sheet_name = picture_name)\n",
    "\n",
    "\t\t\t# 比較除了最新資料以外。每校，每年之數值，是否相同。不同者，存到 error_list。需要資訊，檔案名稱、學校代碼、欄位名稱。\n",
    "\t\t\tfor sch_index in list(Nas_picture_data[\"學校代碼\"]) : # 抓出兩檔案中，相同學校之資料。\n",
    "\t\t\t\tsch_index_data = Nas_picture_data[Nas_picture_data[\"學校代碼\"] == sch_index]\n",
    "\t\t\t\tsch_index_check_data = Nas_picture_check_data[Nas_picture_check_data[\"學校代碼\"] == sch_index]\n",
    "\n",
    "\t\t\t\tfor column_name in Nas_picture_data.columns[4:] : \n",
    "\t\t\t\t\tif abs(sch_index_data[column_name].values[0] - sch_index_check_data[column_name].values[0]) > 10**-5 : \n",
    "\t\t\t\t\t\terror_list.append({\"檔案名稱\" : picture_name, \"學校代碼\" : sch_index, \"欄位名稱\" : column_name, \n",
    "\t\t\t\t\t\t\t\t\t\t\t\"當前值\" : sch_index_data[column_name].values[0],\n",
    "\t\t\t\t\t\t\t\t\t\t\t\"過去值\" : sch_index_check_data[column_name].values[0], \n",
    "\t\t\t\t\t\t\t\t\t\t\t\"差異量\" : sch_index_data[column_name].values[0] - sch_index_check_data[column_name].values[0]})\n",
    "\t\texcept : \n",
    "\t\t\tprint(\"還沒弄得圖型\")\n",
    "\t\t\tprint(picture_name) # 還沒弄的，儲存起來。# 那些可以跑，那些不能。\n",
    "\n",
    "\t\t\n",
    "\n",
    "\t\t\n"
   ]
  },
  {
   "attachments": {},
   "cell_type": "markdown",
   "metadata": {},
   "source": [
    "## 不可先串接之資料除錯"
   ]
  },
  {
   "cell_type": "code",
   "execution_count": null,
   "metadata": {},
   "outputs": [],
   "source": []
  },
  {
   "attachments": {},
   "cell_type": "markdown",
   "metadata": {},
   "source": [
    "# 不同數值輸出"
   ]
  },
  {
   "cell_type": "code",
   "execution_count": null,
   "metadata": {},
   "outputs": [],
   "source": [
    "error_data = pandas.DataFrame(error_list)\n",
    "error_data_path = os.path.join(os.path.join(os.path.dirname(os.getcwd()), \"error\"), \"數值不同.xlsx\")\n",
    "error_data.to_excel(error_data_path, index = False)"
   ]
  },
  {
   "cell_type": "code",
   "execution_count": null,
   "metadata": {},
   "outputs": [],
   "source": [
    "error_data # 為空意味著，當前所蒐集的所有數值均與過去蒐集的均相同。如果為空，則可以進行檔案輸出。\n",
    "\n",
    "# 底下的零，可能原本是 numpy.nan，只是需要先轉為 0，才能夠與過去數值比較。\n",
    "\n",
    "\n"
   ]
  }
 ],
 "metadata": {
  "kernelspec": {
   "display_name": "base",
   "language": "python",
   "name": "python3"
  },
  "language_info": {
   "codemirror_mode": {
    "name": "ipython",
    "version": 3
   },
   "file_extension": ".py",
   "mimetype": "text/x-python",
   "name": "python",
   "nbconvert_exporter": "python",
   "pygments_lexer": "ipython3",
   "version": "3.9.7 (default, Sep 16 2021, 16:59:28) [MSC v.1916 64 bit (AMD64)]"
  },
  "orig_nbformat": 4,
  "vscode": {
   "interpreter": {
    "hash": "a077222d77dfe082b8f1dd562ad70e458ac2ab76993a0b248ab0476e32e9e8dd"
   }
  }
 },
 "nbformat": 4,
 "nbformat_minor": 2
}
