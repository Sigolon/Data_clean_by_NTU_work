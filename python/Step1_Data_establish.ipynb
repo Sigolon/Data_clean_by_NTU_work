{
 "cells": [
  {
   "attachments": {},
   "cell_type": "markdown",
   "metadata": {},
   "source": [
    "# 摘要\n",
    "\n",
    "本專案目標在於，將過往會使用到的圖形資料，移除掉所有數值以後，僅保留各個欄位的變數名稱，基本資料(學校代碼、學校名稱 等)。\n",
    "\n",
    "合併成一個 excel，並以分頁區隔不同的圖形所用之資料。\n",
    "\n",
    "進行此行為的原因在於，當能夠將所有資料放在一起，就可以單從一個檔案作資料指定，進而可省去一些後續讀取資料所需的時間，降低時間機會成本。"
   ]
  },
  {
   "attachments": {},
   "cell_type": "markdown",
   "metadata": {},
   "source": [
    "# 採用 os 遍歷所有檔案，並合併。\n",
    "遍歷資料夾 : 111 年大專校院公開平台數據計算_完成檔"
   ]
  },
  {
   "cell_type": "code",
   "execution_count": 1,
   "metadata": {},
   "outputs": [],
   "source": [
    "import os\n",
    "import re"
   ]
  },
  {
   "cell_type": "code",
   "execution_count": 2,
   "metadata": {},
   "outputs": [
    {
     "name": "stdout",
     "output_type": "stream",
     "text": [
      "c:\\Users\\user\\Desktop\\工作資料夾\\資料清理_自動化\\大專校院公開平台數據計算_參考版\\圖2-1-1生職比.xlsx\n"
     ]
    }
   ],
   "source": [
    "data_nas_folder_path = os.path.join(os.path.dirname(os.getcwd()), \"大專校院公開平台數據計算_參考版\")\n",
    "\n",
    "data_nas_path_generator = os.walk(data_nas_folder_path)\n",
    "\n",
    "data_nas_path_list = []\n",
    "for dirpath, dirname, files in data_nas_path_generator :\n",
    "    for file in files : \n",
    "        data_path = os.path.join(dirpath, file)\n",
    "        data_nas_path_list.append(data_path)\n",
    "print(data_nas_path_list[0])\n"
   ]
  },
  {
   "cell_type": "code",
   "execution_count": 3,
   "metadata": {},
   "outputs": [],
   "source": [
    "import pandas\n",
    "import numpy\n",
    "import traceback"
   ]
  },
  {
   "cell_type": "code",
   "execution_count": 4,
   "metadata": {},
   "outputs": [
    {
     "name": "stderr",
     "output_type": "stream",
     "text": [
      "C:\\Users\\user\\AppData\\Local\\Packages\\PythonSoftwareFoundation.Python.3.10_qbz5n2kfra8p0\\LocalCache\\local-packages\\Python310\\site-packages\\openpyxl\\workbook\\child.py:99: UserWarning: Title is more than 31 characters. Some applications may not be able to read the file\n",
      "  warnings.warn(\"Title is more than 31 characters. Some applications may not be able to read the file\")\n",
      "C:\\Users\\user\\AppData\\Local\\Packages\\PythonSoftwareFoundation.Python.3.10_qbz5n2kfra8p0\\LocalCache\\local-packages\\Python310\\site-packages\\openpyxl\\workbook\\child.py:99: UserWarning: Title is more than 31 characters. Some applications may not be able to read the file\n",
      "  warnings.warn(\"Title is more than 31 characters. Some applications may not be able to read the file\")\n",
      "C:\\Users\\user\\AppData\\Local\\Packages\\PythonSoftwareFoundation.Python.3.10_qbz5n2kfra8p0\\LocalCache\\local-packages\\Python310\\site-packages\\openpyxl\\workbook\\child.py:99: UserWarning: Title is more than 31 characters. Some applications may not be able to read the file\n",
      "  warnings.warn(\"Title is more than 31 characters. Some applications may not be able to read the file\")\n",
      "C:\\Users\\user\\AppData\\Local\\Packages\\PythonSoftwareFoundation.Python.3.10_qbz5n2kfra8p0\\LocalCache\\local-packages\\Python310\\site-packages\\openpyxl\\workbook\\child.py:99: UserWarning: Title is more than 31 characters. Some applications may not be able to read the file\n",
      "  warnings.warn(\"Title is more than 31 characters. Some applications may not be able to read the file\")\n",
      "C:\\Users\\user\\AppData\\Local\\Packages\\PythonSoftwareFoundation.Python.3.10_qbz5n2kfra8p0\\LocalCache\\local-packages\\Python310\\site-packages\\openpyxl\\workbook\\child.py:99: UserWarning: Title is more than 31 characters. Some applications may not be able to read the file\n",
      "  warnings.warn(\"Title is more than 31 characters. Some applications may not be able to read the file\")\n",
      "C:\\Users\\user\\AppData\\Local\\Packages\\PythonSoftwareFoundation.Python.3.10_qbz5n2kfra8p0\\LocalCache\\local-packages\\Python310\\site-packages\\openpyxl\\workbook\\child.py:99: UserWarning: Title is more than 31 characters. Some applications may not be able to read the file\n",
      "  warnings.warn(\"Title is more than 31 characters. Some applications may not be able to read the file\")\n"
     ]
    }
   ],
   "source": [
    "# 建立一個參考用的 DataFrame ，之後會使用到這個，第一次看可以先略過。\n",
    "base_data_path = os.path.join(os.path.join(os.path.dirname(os.getcwd()), \"大專校院公開平台數據計算_參考版\"), \"圖2-1-1生職比.xlsx\")\n",
    "base_data = pandas.read_excel(base_data_path, sheet_name= \"最終結果\")\n",
    "\n",
    "# 創建 儲存錯誤資訊的 list。\n",
    "error_list = []\n",
    "\n",
    "# 創建一個新的 Excel Writer 對象\n",
    "writer_path = os.path.join(os.path.join(os.path.dirname(os.getcwd()), \"reference\"), \"Step1_data.xlsx\")\n",
    "with pandas.ExcelWriter(writer_path, engine=\"openpyxl\") as writer:\n",
    "    # 從遍歷的 data_nas_list 中，採用 for-loop 合併。\n",
    "    for data_path in data_nas_path_list : \n",
    "        try :\n",
    "            data = pandas.read_excel(data_path, sheet_name = \"最終結果\") \n",
    "\n",
    "            # 將欄位名稱統一，並使學校代碼轉換為字串。\n",
    "            if \"統計處學校代碼\" in data.columns : \n",
    "                data = data.rename(columns= {\"統計處學校代碼\" : \"學校代碼\"})\n",
    "            \n",
    "            if \"學校代碼\" not in data.columns : \n",
    "                # 因為之後都是用學校代碼做數值的填入，是故，如果現在的檔案，不存在學校代碼，就無法填入資料。\n",
    "                # 創建一個 學校代碼 欄位，並以 data_base 之數值填入。\n",
    "                data.insert(0, \"學校代碼\", numpy.nan)\n",
    "\n",
    "                # 從 目前 data 中，尋找與 base_data 具有一樣學校名稱的欄位，將 目前 data 中之學校代碼的位置，填上正確的學校代碼。\n",
    "                for sch_name in list(dict.fromkeys(data[\"學校名稱\"])) :\n",
    "                    try : \n",
    "                        data.loc[data[\"學校名稱\"] == sch_name, \"學校代碼\"] = base_data[base_data[\"學校名稱\"] == sch_name][\"統計處學校代碼\"].values[0]\n",
    "\n",
    "                    except Exception as e : \n",
    "                        # print(\"區塊一\")\n",
    "                        # print(str(e))\n",
    "                        pass\n",
    "                \n",
    "                # 檢查 目前的 data 是否有學校的學校代碼為遺漏值\n",
    "                if data[\"學校代碼\"].isnull().sum() != 0 : \n",
    "\n",
    "                    file_name = os.path.splitext(os.path.basename(data_path))[0]\n",
    "                    for var in data[data[\"學校代碼\"].isna()][\"學校名稱\"].values : \n",
    "                        if var == \"中信金融管理學院\" : \n",
    "                            data.loc[data[\"學校名稱\"] == var, \"學校代碼\"] = \"1125\" # 中信金融管理學院，在 base_data 中沒有辦法找到對應的學校代碼，此處直接寫入。\n",
    "                        else : \n",
    "                            error_element = {\"錯誤類型\" : \"遺漏值\", \"分頁名稱\" : file_name, \"學校名稱\" : var}\n",
    "                            error_list.append(error_element)\n",
    "                    \n",
    "            # 將 學校代碼的型別轉為字串。\n",
    "            data[\"學校代碼\"] = data[\"學校代碼\"].astype(str)\n",
    "\n",
    "            # 尋找 data 中，學校類別的欄位。這個欄位的下一個欄位，就是變數欄位。\n",
    "            sch_classfication_index = data.columns.get_loc(\"學校類別\")\n",
    "\n",
    "            # 將每一個變數欄位以遺漏值取代，方便之後填入。\n",
    "            data[data.columns[sch_classfication_index + 1:]] = \"NA\"\n",
    "\n",
    "            # 將每一個數值欄位 (如 速動比_101_學年度)，欄位名稱更改為 101，依此類推。採用正則表達式做數值選取。\n",
    "            rename_list = []\n",
    "            columns_list = data.iloc[:, sch_classfication_index + 1 : ].columns # 將數值欄位之欄位名稱都蒐集在一個 list。\n",
    "            \n",
    "            # 採用正則表達式，抓取 每個欄位的學年度部分。(如 速動比_101_學年度) 其中的 101。並存入 rename_list 之中。\n",
    "            for column in columns_list : \n",
    "                sch_year_text = re.search(r'\\d{3}', str(column)).group(0) # 有一些欄位名稱，是 int 格式，而不是字串。\n",
    "                rename_list.append(sch_year_text)\n",
    "\n",
    "            \n",
    "            # 將 columns_list、rename_list，組合成 dict。\n",
    "            rename_dict = dict(zip(columns_list, rename_list))\n",
    "\n",
    "            # 將欄位名稱全部改名。\n",
    "            data = data.rename(columns= rename_dict)\n",
    "       \n",
    "            # 將每一個 Data 依序寫入各個分頁，分頁名子 data_path 的檔案名稱命名。\n",
    "            file_name = os.path.splitext(os.path.basename(data_path))[0]\n",
    "            data.to_excel(writer, sheet_name = file_name, index=False)\n",
    "\n",
    "\n",
    "        except Exception as e: \n",
    "            print(\"格式不同之檔案\")\n",
    "            print(data_path)\n",
    "            print(traceback.print_exc())\n",
    "\n"
   ]
  },
  {
   "cell_type": "code",
   "execution_count": 5,
   "metadata": {},
   "outputs": [
    {
     "name": "stdout",
     "output_type": "stream",
     "text": [
      "Empty DataFrame\n",
      "Columns: []\n",
      "Index: []\n"
     ]
    }
   ],
   "source": [
    "error_data = pandas.DataFrame(error_list)\n",
    "print(error_data)"
   ]
  }
 ],
 "metadata": {
  "kernelspec": {
   "display_name": "Python 3",
   "language": "python",
   "name": "python3"
  },
  "language_info": {
   "codemirror_mode": {
    "name": "ipython",
    "version": 3
   },
   "file_extension": ".py",
   "mimetype": "text/x-python",
   "name": "python",
   "nbconvert_exporter": "python",
   "pygments_lexer": "ipython3",
   "version": "3.10.10"
  },
  "orig_nbformat": 4,
  "vscode": {
   "interpreter": {
    "hash": "7b1f2b33e866b0bf2409397e5f58ba9cdf170d3b7f64c8f359c79998e2f88ad4"
   }
  }
 },
 "nbformat": 4,
 "nbformat_minor": 2
}
