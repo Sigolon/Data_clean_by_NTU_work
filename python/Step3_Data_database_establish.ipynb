{
 "cells": [
  {
   "attachments": {},
   "cell_type": "markdown",
   "metadata": {},
   "source": [
    "# 摘要\n",
    "此處目標為，將需要串接、整理之原始資料。整理成一份 excel。\n",
    "\n",
    "以利後續，採用此份 excel 之內容，配合 \"填值表\" excel，將每一個數值填入 Nas_data 之中。\n",
    "\n",
    "根據，reference資料夾的填值表，載入公式，根據公式，得到需要的變數種類。\n",
    "\n",
    "最後，將每種變數清理好以後，進行串接。"
   ]
  },
  {
   "cell_type": "code",
   "execution_count": null,
   "metadata": {},
   "outputs": [],
   "source": [
    "import pandas\n",
    "import os\n",
    "import numpy\n",
    "import traceback, re"
   ]
  },
  {
   "cell_type": "code",
   "execution_count": null,
   "metadata": {},
   "outputs": [],
   "source": [
    "formula_data_path = os.path.join(os.path.join(os.path.dirname(os.getcwd()), \"reference\"), \"填值表.xlsx\")\n",
    "formula_data = pandas.read_excel(formula_data_path, sheet_name= \"填值表\")\n",
    "# print(formula_data[\"公式(pandas)\"])\n",
    "\n",
    "# 使用正則表達式，將每一個公式之中使用的變數，抓入一個 list 之中。\n",
    "import re\n",
    "\n",
    "var_list = []\n",
    "for formula in list(formula_data[\"公式(pandas)\"]) : \n",
    "    try : \n",
    "        formula_split = formula.split(\"/\")\n",
    "        for var in formula_split :\n",
    "            matches = re.findall(r\"data\\[\\\"(\\S+)\\\"\\]\", var) \n",
    "\n",
    "            for matche in matches : \n",
    "                if matche not in var_list : \n",
    "                    var_list.append(matche)\n",
    "    except Exception as e : \n",
    "        print(formula)\n",
    "        print(traceback.print_exc())\n",
    "\n",
    "# print(var_list) # 記得還有兩格沒有處理完。\n",
    "for var in var_list : \n",
    "    print(var)"
   ]
  },
  {
   "attachments": {},
   "cell_type": "markdown",
   "metadata": {},
   "source": [
    "# 通用函數"
   ]
  },
  {
   "cell_type": "code",
   "execution_count": null,
   "metadata": {},
   "outputs": [],
   "source": [
    "# 透過更改分組變數，學校代碼、學校名稱，使不同 Data 可以被歸在一類。# sch_list 用於填入一個 需要串接的學校之學校代碼，第一個是學校代碼改變的依據。\n",
    "def reindex_with_sch_function(data, sch_base, sch_rename_list) : # DataFrame, 學校名稱依據之學校代碼, 被改變之學校代碼。\n",
    "    for sch in sch_rename_list : \n",
    "        data.loc[data[\"學校代碼\"] == sch, \"學校代碼\"] = sch_base\n",
    "    return data\n",
    "\n",
    "# 根據學校代碼，從原始資料中刪除不需要的學校。\n",
    "def del_row_by_sch_index(data, column_name, sch_index) : \n",
    "    data = data[data[column_name] != sch_index]\n",
    "    return data\n",
    "\n",
    "# 以最新的年份，為學校統一命名。\n",
    "def rename_sch_name_by_sch_index(data, sch_index) :\n",
    "    sch_index_data = data[data[\"學校代碼\"] == sch_index].copy()\n",
    "    sch_name = sch_index_data[\"學校名稱\"].values[-1]\n",
    "    sch_index_data[\"學校名稱\"] = sch_name\n",
    "    data[data[\"學校代碼\"] == sch_index] = sch_index_data\n",
    "    return data\n",
    "\n",
    "# 將所有資料的 學校類別 都更改為最新學年度。\n",
    "def retype_by_sch_year(df) : \n",
    "    for sch_index in list(dict.fromkeys(df[\"學校代碼\"])) :\n",
    "        sch_data = df[df[\"學校代碼\"] == sch_index]\n",
    "        sch_data.loc[sch_data.index, \"學校類別\"] = sch_data.sort_values(\"學年度\")[\"學校類別\"].values[-1]\n",
    "        df[df[\"學校代碼\"] == sch_index] = sch_data\n",
    "    return df\n",
    "\n",
    "# 將所有學校名稱相同的學校，其學校代碼改成最新學年度。\n",
    "def reindex_by_sch_year(df) :\n",
    "    for sch_name in list(dict.fromkeys(df[\"學校名稱\"])) : \n",
    "        sch_data = df[df[\"學校名稱\"] == sch_name]\n",
    "        sch_data.loc[sch_data.index, \"學校代碼\"] = sch_data.sort_values(\"學年度\")[\"學校代碼\"].values[-1]\n",
    "        df[df[\"學校名稱\"] == sch_name] = sch_data\n",
    "    return df\n",
    "\n",
    "# 將數值欄位，資料型別盡可能轉為浮點數。本專案，所有的data，都是學校代碼在第一列，學年度在第二列，其餘為各項數值。\n",
    "def retype_with_float(df) : \n",
    "    for column in df.columns[1:] : \n",
    "        try : \n",
    "            df[column] = df[column].astype(float)\n",
    "        except : \n",
    "            print(column)\n",
    "    return df"
   ]
  },
  {
   "attachments": {},
   "cell_type": "markdown",
   "metadata": {},
   "source": [
    "# 變數命名規則"
   ]
  },
  {
   "attachments": {},
   "cell_type": "markdown",
   "metadata": {},
   "source": [
    "如果這筆資料，不需要與其他資料串接，則命名為，\n",
    "\n",
    "df_mered_???\n",
    "\n",
    "以 \"XXX.xlsx 統計\" 為例。\n",
    "\n",
    "df_mered_stu_12_2。mered 對應的是 「已串接」， stu 對應的是「學」字，「12_2」對應的是編號。\n",
    "\n",
    "如果這筆資料，需要與其他資料串接，才能形成用於計算的變數，則命名為，\n",
    "\n",
    "df_mer_???\n",
    "\n",
    "以 \"XXX.xlsx 統計\" 為例。\n",
    "\n",
    "df_mer_3。其中 用 mer 對應的是 「需串接」。\n",
    "\n",
    "而串接完成之檔案，會以 df_mered_???_plus_??? 命名。如 df_mer_3 + df_mer_4 = df_mered_3_plus_4。\n",
    "\n",
    "如此命名的理由在於，如果要一次性清理、串接所有的 data，並於最後輸出成 excel ，能夠根據 變數名稱\n",
    "\n",
    "對所有符合該變數名稱之變數，直接檔案輸出。如 僅選取，df_mered，為開頭的變數，做輸出。"
   ]
  },
  {
   "attachments": {},
   "cell_type": "markdown",
   "metadata": {},
   "source": [
    "# 變數取得、串接\n",
    "這裡需要將，每一筆原始資料，整理至，僅留下學校代碼、學年度、需要的數值變數。其餘皆不保留\n",
    "\n",
    "並且資料型別為，學校代碼 : object、學年度 : float or int、需要的數值 : float。"
   ]
  },
  {
   "attachments": {},
   "cell_type": "markdown",
   "metadata": {},
   "source": [
    "## 專任教師數、專任教授人數、專任副教授人數、專任助理教授人數\n",
    "資料來源 : 1.1專任教師數、教1-2.專任教師數。"
   ]
  },
  {
   "attachments": {},
   "cell_type": "markdown",
   "metadata": {},
   "source": [
    "### df_mer_1_1"
   ]
  },
  {
   "cell_type": "code",
   "execution_count": null,
   "metadata": {},
   "outputs": [],
   "source": [
    "folder_path = os.path.join(os.path.join(os.path.dirname(os.getcwd()), \"source\"), \"1-1.專任教師數\")\n",
    "folder_generator = os.walk(folder_path)\n",
    "data_path_list = []\n",
    "for dirs, subdirs, files in folder_generator : \n",
    "    for file in files : \n",
    "        data_path_list.append(os.path.join(dirs, file))\n",
    "\n",
    "df_mer_1_1 = pandas.read_excel(data_path_list[0], header=2, dtype= {\"學校代碼\" : str})\n",
    "\n",
    "df_mer_1_1 = df_mer_1_1.rename(columns= {\"Unnamed: 1\" : \"學年度\", \"總計\" : \"專任教師數\"})\n",
    "df_mer_1_1 = df_mer_1_1[df_mer_1_1[\"學校名稱\"].notnull()]\n",
    "df_mer_1_1[\"專任教授人數\"] = df_mer_1_1[\"男.1\"] + df_mer_1_1[\"女.1\"]\n",
    "df_mer_1_1[\"專任副教授人數\"] = df_mer_1_1[\"男.2\"] + df_mer_1_1[\"女.2\"]\n",
    "df_mer_1_1[\"專任助理教授人數\"] = df_mer_1_1[\"男.3\"] + df_mer_1_1[\"女.3\"]\n",
    "df_mer_1_1 = df_mer_1_1[[\"學校代碼\", \"學年度\", \"專任教師數\", \"專任教授人數\", \"專任副教授人數\", \"專任助理教授人數\"]]"
   ]
  },
  {
   "attachments": {},
   "cell_type": "markdown",
   "metadata": {},
   "source": [
    "### df_mer_tea_1_2"
   ]
  },
  {
   "cell_type": "code",
   "execution_count": null,
   "metadata": {},
   "outputs": [],
   "source": [
    "folder_path = os.path.join(os.path.join(os.path.dirname(os.getcwd()), \"source\"), \"教1-2.專任教師數-以「校」統計\")\n",
    "folder_generator = os.walk(folder_path)\n",
    "data_path_list = []\n",
    "for dirs, subdirs, files in folder_generator : \n",
    "    for file in files : \n",
    "        data_path_list.append(os.path.join(dirs, file))\n",
    "\n",
    "df_mer_tea_3_2 = pandas.read_excel(data_path_list[0], header=2, dtype= {\"學校統計處代碼\" : str})\n",
    "df_mer_tea_3_2 = df_mer_tea_3_2.rename(columns = {\"學校統計處代碼\" : \"學校代碼\", \"專任教師數-教師總數總計\" : \"專任教師數\"})\n",
    "df_mer_tea_3_2 = df_mer_tea_3_2[df_mer_tea_3_2[\"設立別\"].notnull()]\n",
    "df_mer_tea_3_2[\"專任教授人數\"] = df_mer_tea_3_2[\"專任教師數-教授男\"] + df_mer_tea_3_2[\"專任教師數-教授女\"]\n",
    "df_mer_tea_3_2[\"專任副教授人數\"] = df_mer_tea_3_2[\"專任教師數-副教授男\"] + df_mer_tea_3_2[\"專任教師數-副教授女\"]\n",
    "df_mer_tea_3_2[\"專任助理教授人數\"] = df_mer_tea_3_2[\"專任教師數-助理教授男\"] + df_mer_tea_3_2[\"專任教師數-助理教授女\"]\n",
    "df_mer_tea_3_2 = df_mer_tea_3_2[[\"學校代碼\", \"學年度\", \"專任教師數\", \"專任教授人數\", \"專任副教授人數\", \"專任助理教授人數\"]]"
   ]
  },
  {
   "attachments": {},
   "cell_type": "markdown",
   "metadata": {},
   "source": [
    "### df_mered_1_1_plus_tea_1_2"
   ]
  },
  {
   "cell_type": "code",
   "execution_count": null,
   "metadata": {},
   "outputs": [],
   "source": [
    "df_mered_1_1_plus_tea_1_2 = pandas.concat([df_mer_1_1, df_mer_tea_3_2])"
   ]
  },
  {
   "attachments": {},
   "cell_type": "markdown",
   "metadata": {},
   "source": [
    "## 外籍專任教師數、外籍專任教授人數、外籍專任副教授人數、外籍專任助理教授人數\n",
    "資料來源 : 【大專校院校務資訊公開平臺】之「2.外籍專任教師數」（101-105學年度）、「教3-2.外籍專任教師數-以「校」統計」（106-111學年度）"
   ]
  },
  {
   "attachments": {},
   "cell_type": "markdown",
   "metadata": {},
   "source": [
    "### df_mer_2"
   ]
  },
  {
   "cell_type": "code",
   "execution_count": null,
   "metadata": {},
   "outputs": [],
   "source": [
    "folder_path = os.path.join(os.path.join(os.path.dirname(os.getcwd()), \"source\"), \"2.外籍專任教師數\")\n",
    "folder_generator = os.walk(folder_path)\n",
    "data_path_list = []\n",
    "for dirs, subdirs, files in folder_generator : \n",
    "    for file in files : \n",
    "        data_path_list.append(os.path.join(dirs, file))\n",
    "\n",
    "df_mer_2 = pandas.read_excel(data_path_list[0], header=2, dtype= {\"學校代碼\" : str})\n",
    "df_mer_2 = df_mer_2.rename(columns= {\"Unnamed: 1\" : \"學年度\", \"總計\" : \"外籍專任教師數\"})\n",
    "df_mer_2 = df_mer_2[df_mer_2[\"學校名稱\"].notnull()]\n",
    "df_mer_2[\"外籍專任教授人數\"] = df_mer_2[\"男.1\"] + df_mer_2[\"女.1\"]\n",
    "df_mer_2[\"外籍專任副教授人數\"] = df_mer_2[\"男.2\"] + df_mer_2[\"女.2\"]\n",
    "df_mer_2[\"外籍專任助理教授人數\"] = df_mer_2[\"男.3\"] + df_mer_2[\"女.3\"]\n",
    "df_mer_2 = df_mer_2[[\"學校代碼\", \"學年度\", \"外籍專任教師數\", \"外籍專任教授人數\", \"外籍專任副教授人數\", \"外籍專任助理教授人數\"]]"
   ]
  },
  {
   "attachments": {},
   "cell_type": "markdown",
   "metadata": {},
   "source": [
    "### df_mer_tea_3_2"
   ]
  },
  {
   "cell_type": "code",
   "execution_count": null,
   "metadata": {},
   "outputs": [],
   "source": [
    "folder_path = os.path.join(os.path.join(os.path.dirname(os.getcwd()), \"source\"), \"教3-2.外籍專任教師數-以「校」統計\")\n",
    "folder_generator = os.walk(folder_path)\n",
    "data_path_list = []\n",
    "for dirs, subdirs, files in folder_generator : \n",
    "    for file in files : \n",
    "        data_path_list.append(os.path.join(dirs, file))\n",
    "\n",
    "df_mer_tea_3_2 = pandas.read_excel(data_path_list[0], header = 2, dtype= {\"學校統計處代碼\" : str})\n",
    "df_mer_tea_3_2 = df_mer_tea_3_2.rename(columns = {\"學校統計處代碼\" : \"學校代碼\", \"外籍專任教師數-教師總數總計\" : \"外籍專任教師數\"})\n",
    "df_mer_tea_3_2 = df_mer_tea_3_2[df_mer_tea_3_2[\"設立別\"].notnull()]\n",
    "df_mer_tea_3_2[\"外籍專任教授人數\"] = df_mer_tea_3_2[\"外籍專任教師數-教授男\"] + df_mer_tea_3_2[\"外籍專任教師數-教授女\"]\n",
    "df_mer_tea_3_2[\"外籍專任副教授人數\"] = df_mer_tea_3_2[\"外籍專任教師數-副教授男\"] + df_mer_tea_3_2[\"外籍專任教師數-副教授女\"]\n",
    "df_mer_tea_3_2[\"外籍專任助理教授人數\"] = df_mer_tea_3_2[\"外籍專任教師數-助理教授男\"] + df_mer_tea_3_2[\"外籍專任教師數-助理教授女\"]\n",
    "df_mer_tea_3_2 = df_mer_tea_3_2[[\"學校代碼\", \"學年度\", \"外籍專任教師數\", \"外籍專任教授人數\", \"外籍專任副教授人數\", \"外籍專任助理教授人數\"]]\n"
   ]
  },
  {
   "attachments": {},
   "cell_type": "markdown",
   "metadata": {},
   "source": [
    "### df_mered_2_plus_tea_3_2"
   ]
  },
  {
   "cell_type": "code",
   "execution_count": null,
   "metadata": {},
   "outputs": [],
   "source": [
    "df_mered_2_plus_tea_3_2 = pandas.concat([df_mer_2, df_mer_tea_3_2])"
   ]
  },
  {
   "cell_type": "code",
   "execution_count": null,
   "metadata": {},
   "outputs": [],
   "source": [
    "df_mered_2_plus_tea_3_2"
   ]
  },
  {
   "attachments": {},
   "cell_type": "markdown",
   "metadata": {},
   "source": [
    "### df_mered_tea_8"
   ]
  },
  {
   "cell_type": "code",
   "execution_count": null,
   "metadata": {},
   "outputs": [],
   "source": [
    "folder_path = os.path.join(os.path.join(os.path.dirname(os.getcwd()), \"source\"), \"教8.專、兼任輔導人員數-以「校」統計\")\n",
    "folder_generator = os.walk(folder_path)\n",
    "data_path_list = []\n",
    "for dirs, subdirs, files in folder_generator : \n",
    "    for file in files : \n",
    "        data_path_list.append(os.path.join(dirs, file))\n",
    "\n",
    "df_mered_tea_8 = pandas.read_excel(data_path_list[0], header=2, dtype= {\"學校統計處代碼\" : str})\n",
    "df_mered_tea_8 = df_mered_tea_8.rename(columns= {\"學校統計處代碼\" : \"學校代碼\", \"輔導人員數-專任\" : \"專任輔導人員數\"})\n",
    "df_mered_tea_8 = df_mered_tea_8[[\"學校代碼\", \"學期\", \"學年度\", \"專任輔導人員數\"]]\n",
    "df_mered_tea_8 = df_mered_tea_8[df_mered_tea_8[\"學校代碼\"].notnull()]\n",
    "df_mered_tea_8 = df_mered_tea_8[df_mered_tea_8[\"學期\"] == 1]"
   ]
  },
  {
   "cell_type": "code",
   "execution_count": null,
   "metadata": {},
   "outputs": [],
   "source": [
    "df_mered_tea_8[(df_mered_tea_8[\"學校代碼\"] == \"1043\") & (df_mered_tea_8[\"學年度\"] == 108)]"
   ]
  },
  {
   "attachments": {},
   "cell_type": "markdown",
   "metadata": {},
   "source": [
    "# Data 清理、整理。\n",
    "此處，將所有以 df_mered 開頭之變數 (所有 dataframe)，全部清理、整理。\n"
   ]
  },
  {
   "attachments": {},
   "cell_type": "markdown",
   "metadata": {},
   "source": [
    "## 抓出所有以 df_mered 開頭之變數，用於下一段迭代。"
   ]
  },
  {
   "cell_type": "code",
   "execution_count": null,
   "metadata": {},
   "outputs": [],
   "source": [
    "# 抓取本專案所有的變數。備註 : 如果出現不想出現的東西，可能有兩種情況。1. 列表推導式有問題。2. 變數出現的順序讓 globals() 抓到多餘的變數，這時候請從新啟動。\n",
    "globals_vars = globals()\n",
    "\n",
    "# 透過列表推導式，抓出 df_mered 開頭之變數，並組成一個 list。\n",
    "df_mered_vars = [var for var in globals_vars if  var.startswith(\"df_mered\") and not var.endswith(\"path\")]\n",
    "\n"
   ]
  },
  {
   "cell_type": "code",
   "execution_count": null,
   "metadata": {},
   "outputs": [],
   "source": [
    "df_mered_vars"
   ]
  },
  {
   "attachments": {},
   "cell_type": "markdown",
   "metadata": {},
   "source": [
    "## 資料型別轉換"
   ]
  },
  {
   "cell_type": "code",
   "execution_count": null,
   "metadata": {},
   "outputs": [],
   "source": [
    "for var in df_mered_vars : \n",
    "    # 數值變數轉浮點數\n",
    "    print(var)\n",
    "    globals_vars[var] = retype_with_float(globals_vars[var]) # 正常來說，這裡不應該 print 出，除了 data 名稱以外的東西。#學年度也一起轉為 float。\n",
    "    # 學校代碼轉字串。\n",
    "    globals_vars[var][\"學校代碼\"] = globals_vars[var][\"學校代碼\"].astype(str)\n",
    "    "
   ]
  },
  {
   "attachments": {},
   "cell_type": "markdown",
   "metadata": {},
   "source": [
    "## 資料清理、整理"
   ]
  },
  {
   "cell_type": "code",
   "execution_count": null,
   "metadata": {},
   "outputs": [],
   "source": [
    "# 這裡當有其他學校停辦時，需要再新增。換言之，實作上需要準備一份，excel 存放這類的資料，讓程式可以讀取。\n",
    "model_3_sch_text = \"# 稻江科技暨管理學院#1176。# 蘭陽技術學院#1182。# 南榮技術學院#1181。# 南榮學校財團法人南榮科技大學#1074。# 永達技術學院#1154。# 高鳳數位內容學院#1190。# 亞太學校財團法人亞太創意技術學院#1189。#臺北基督學院#1R03。#臺灣觀光學院#1192。#高美醫護管理專科學校#1288。\"\n",
    "model_3_sch_list = []\n",
    "\n",
    "model_3_sch_text_split = model_3_sch_text.split(\"。\")\n",
    "model_3_sch_text_split = model_3_sch_text_split[: -1]\n",
    "# print(model_3_sch_text_split)\n",
    "for element in model_3_sch_text_split :\n",
    "    element_split = element.split(\"#\")\n",
    "    model_3_sch_list.append({\"sch_name\" : element_split[1], \"sch_index\" : element_split[2]})\n",
    "\n",
    "# 資料串接。\n",
    "# 年數大者，在前面\n",
    "reindex_sch_text = \"#台北海洋科技大學#1083#1194。#崇仁醫護管理專科學校#1293#1290。# 康寧大學#1079#1281#1059。# 國立陽明交通大學#0007#0016。# 國立清華大學#0002#0038。# 臺北市立大學#3002#3102#3001。# 國立屏東大學#0052#0136#0040。# 國立高雄科技大學#0053#0034#0026#0027。# 法鼓學校財團法人法鼓文理學院#1196#1R01。# 台北海洋學校財團法人台北海洋科技大學#1083#1197。# 華夏學校財團法人華夏科技大學#1076#1191。#國立臺北商業學院#0051#0142。#文藻外語大學#1075#1147。# 慈濟科技大學#1077#1150。# 致理科技大學#1078#1164。# 亞東學校財團法人亞東科技大學#1084#1166。# 宏國學校財團法人宏國德霖科技大學#1080#1179。# 東方學校財團法人東方設計大學#1081#1184。# 崇右學校財團法人崇右影藝科技大學#1082#1187。\"\n",
    "\n",
    "# 創建模式一，函數使用，list。\n",
    "reindex_sch_list = []\n",
    "reindex_sch_list_step_1 = reindex_sch_text.split(\"。\")\n",
    "reindex_sch_list_step_1 = reindex_sch_list_step_1[:-1] # 刪除多的一個，\"\"。\n",
    "# print(model_1_sch_list_step_1)\n",
    "for element in reindex_sch_list_step_1 : \n",
    "    element_split = element.split(\"#\")\n",
    "    reindex_sch_list_element = {\"sch_name\" : element_split[1], \"sch_base\" : element_split[2], \"sch_rename_list\" : element_split[3:]}\n",
    "    reindex_sch_list.append(reindex_sch_list_element)\n",
    "\n",
    "\n",
    "# 使用 for - loop 整理每一個 data_mered 之變數。\n",
    "for var in df_mered_vars : \n",
    "\n",
    "    # 刪除多餘的學校\n",
    "    for element_m_3 in model_3_sch_list : \n",
    "        globals_vars[var] = del_row_by_sch_index(globals_vars[var], \"學校代碼\", element_m_3[\"sch_index\"])\n",
    "\n",
    "\n",
    "    # 資料串接\n",
    "    for elment_re in reindex_sch_list : \n",
    "        try : \n",
    "            globals_vars[var] = reindex_with_sch_function(globals_vars[var], elment_re[\"sch_base\"], elment_re[\"sch_rename_list\"]) \n",
    "            \n",
    "        except : \n",
    "            print(var, element[\"sch_base\"], element[\"sch_rename_list\"]) # 空，意味著這個方法，可以適用於目前給的所有檔案。\n",
    "\n",
    "    \n"
   ]
  },
  {
   "attachments": {},
   "cell_type": "markdown",
   "metadata": {},
   "source": [
    "## 資料計算"
   ]
  },
  {
   "cell_type": "code",
   "execution_count": null,
   "metadata": {},
   "outputs": [],
   "source": [
    "error = []\n",
    "\n",
    "data_output = []\n",
    "for var in df_mered_vars : \n",
    "    data = globals_vars[var].copy()\n",
    "    for column in data.columns[2:] : # 以每一個數值欄位，作為一份 data 儲存。舉例而言，df_mered_stu_12_2_data 有 4 格數值欄位，則會被轉為四份 Data。並存入 data_output。\n",
    "        # print(column)\n",
    "        data_output_element = []\n",
    "        for sch_index in list(dict.fromkeys(data[\"學校代碼\"])) : \n",
    "            sch_index_data = data[data[\"學校代碼\"] == sch_index]\n",
    "            for sch_year in list(dict.fromkeys(data[\"學年度\"])): \n",
    "                try : \n",
    "                    sch_year_data = sch_index_data[sch_index_data[\"學年度\"] == sch_year] # 某校、某年之數據。\n",
    "                    if len(sch_year_data[column]) != 0 : # sch_year_data[column] 不是空的，以及，不是全都是遺漏值。\n",
    "                        if sch_year_data[column].isnull().sum() != len(sch_year_data[column]) : \n",
    "                            var_sum = sch_year_data[column].sum() # 可能是，明明已經轉換為 float 了，但問題是，有部分的非數值型別混在裡面。\n",
    "                        else : \n",
    "                            var_sum = numpy.nan\n",
    "                    else : \n",
    "                        var_sum = numpy.nan\n",
    "                    data_element = {\"學校代碼\" : sch_index, \"學年度\" : sch_year, column : var_sum}\n",
    "                    data_output_element.append(data_element)\n",
    "                except Exception as e : \n",
    "                    if traceback.print_exc() not in error:\n",
    "                        error.append(traceback.print_exc())\n",
    "\n",
    "        data_output_element = pandas.DataFrame(data_output_element)\n",
    "        data_output.append(data_output_element)\n",
    "\n",
    "\n",
    "print(error)"
   ]
  },
  {
   "attachments": {},
   "cell_type": "markdown",
   "metadata": {},
   "source": [
    "## 資料串接"
   ]
  },
  {
   "cell_type": "code",
   "execution_count": null,
   "metadata": {},
   "outputs": [],
   "source": [
    "# print(df_mered_vars)\n",
    "# print(df_mered_stu_12_2_data)\n",
    "\n",
    "merged_data_left = data_output[0]\n",
    "for data in data_output[1:] : \n",
    "    merged_data_left = pandas.merge(merged_data_left, data, on=[\"學校代碼\", \"學年度\"], how='outer')\n",
    "\n",
    "# 學年度，由小到大排列。\n",
    "merged_data_left = merged_data_left.sort_values(\"學年度\")"
   ]
  },
  {
   "cell_type": "code",
   "execution_count": null,
   "metadata": {},
   "outputs": [],
   "source": [
    "# 不是很清楚為何會有學年度為 NaN 的行數出現。並且是多出來的，僅在 1R04、1R07、1R08 出現。\n",
    "merged_data_left[merged_data_left[\"學校代碼\"] == \"1R04\"]\n",
    "\n"
   ]
  },
  {
   "attachments": {},
   "cell_type": "markdown",
   "metadata": {},
   "source": [
    "# 變數輸出\n",
    "將每一個整理、串接好的 data，存入一個 excel。"
   ]
  },
  {
   "cell_type": "code",
   "execution_count": null,
   "metadata": {},
   "outputs": [],
   "source": [
    "output_path = os.path.join(os.path.join(os.path.dirname(os.getcwd()), \"reference\"), \"Step3_data_base.xlsx\")\n",
    "merged_data_left.to_excel(output_path, index = False)"
   ]
  },
  {
   "attachments": {},
   "cell_type": "markdown",
   "metadata": {},
   "source": [
    "# 測試區"
   ]
  },
  {
   "cell_type": "code",
   "execution_count": null,
   "metadata": {},
   "outputs": [],
   "source": [
    "rr = pandas.DataFrame({\n",
    "    \"A\" : [1, numpy.nan, 2],\n",
    "    \"B\" : [1, 2, numpy.nan]\n",
    "})\n",
    "print(rr[\"A\"].values)\n",
    "print(rr[\"A\"].values[0] + rr[\"B\"].values[0]) # 遺漏值 + 非遺漏值 = 遺漏值。\n",
    "\n",
    "\n",
    "print(list(dict(rr[\"A\"]))) \n",
    "# 該欄位有遺漏值，但有其餘數值，sum()僅會計算，數值部分的加總。\n",
    "# 該欄位全部都是遺漏值，sum()，會輸出 0。但這一個應該要輸出 numpy.nan。\n",
    "# 該欄位沒有東西，sum()，會輸出 0。但實際上，這一格應該要輸出 numpy.nan。\n",
    "\n",
    "# 如此一來，無法確定，究竟目前在 Nas_base中，某校某年，顯示為 0 的數值，究竟是來自於一個空集合，還是一個真的具有 0 數值的欄位。\n",
    "# 這個差別會影響到，後續要將具有部分零數值的學校，其欄位，設定為 0 時，無法分辨其到底是否為真的具有 0 數值欄位。\n",
    "\n",
    "# 上述問題，透過在資料計算區塊，透過 if 判別式，區辨資料計算的來源情況，預期可以解決。"
   ]
  }
 ],
 "metadata": {
  "kernelspec": {
   "display_name": "Python 3",
   "language": "python",
   "name": "python3"
  },
  "language_info": {
   "codemirror_mode": {
    "name": "ipython",
    "version": 3
   },
   "file_extension": ".py",
   "mimetype": "text/x-python",
   "name": "python",
   "nbconvert_exporter": "python",
   "pygments_lexer": "ipython3",
   "version": "3.10.10"
  },
  "orig_nbformat": 4,
  "vscode": {
   "interpreter": {
    "hash": "7b1f2b33e866b0bf2409397e5f58ba9cdf170d3b7f64c8f359c79998e2f88ad4"
   }
  }
 },
 "nbformat": 4,
 "nbformat_minor": 2
}
